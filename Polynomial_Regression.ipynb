{
  "nbformat": 4,
  "nbformat_minor": 0,
  "metadata": {
    "colab": {
      "name": "Polynomial_Regression.ipynb",
      "provenance": [],
      "collapsed_sections": [],
      "mount_file_id": "1_sRsGgpTnmmeL9UhBzyTT9igpeBnbM0c",
      "authorship_tag": "ABX9TyMl3VKgpDDafsQG5r6hW4KC",
      "include_colab_link": true
    },
    "kernelspec": {
      "name": "python3",
      "display_name": "Python 3"
    },
    "language_info": {
      "name": "python"
    }
  },
  "cells": [
    {
      "cell_type": "markdown",
      "metadata": {
        "id": "view-in-github",
        "colab_type": "text"
      },
      "source": [
        "<a href=\"https://colab.research.google.com/github/GauravKumawat33/Regression/blob/master/Polynomial_Regression.ipynb\" target=\"_parent\"><img src=\"https://colab.research.google.com/assets/colab-badge.svg\" alt=\"Open In Colab\"/></a>"
      ]
    },
    {
      "cell_type": "code",
      "execution_count": null,
      "metadata": {
        "id": "M5eiHW__5BII"
      },
      "outputs": [],
      "source": [
        ""
      ]
    },
    {
      "cell_type": "code",
      "source": [
        "from google.colab import drive\n",
        "drive.mount('/content/drive')"
      ],
      "metadata": {
        "colab": {
          "base_uri": "https://localhost:8080/"
        },
        "id": "q0VGjU2j5FCH",
        "outputId": "7a5b9c85-6ef7-4c2d-fee4-9a72354bae22"
      },
      "execution_count": 1,
      "outputs": [
        {
          "output_type": "stream",
          "name": "stdout",
          "text": [
            "Drive already mounted at /content/drive; to attempt to forcibly remount, call drive.mount(\"/content/drive\", force_remount=True).\n"
          ]
        }
      ]
    },
    {
      "cell_type": "code",
      "source": [
        "import matplotlib.pyplot as plt\n",
        "import pandas as pd\n",
        "import numpy as np\n",
        "import pylab as pl\n",
        "%matplotlib inline"
      ],
      "metadata": {
        "id": "myci0JCr5JVp"
      },
      "execution_count": 3,
      "outputs": []
    },
    {
      "cell_type": "code",
      "source": [
        "df=pd.read_csv(\"/content/drive/MyDrive/ML/CAR_DEKHO.csv\")"
      ],
      "metadata": {
        "id": "_YlGx4Nn5ihC"
      },
      "execution_count": 4,
      "outputs": []
    },
    {
      "cell_type": "code",
      "source": [
        "cdf=df[['year','km_driven','selling_price']]"
      ],
      "metadata": {
        "id": "ONmt93Fi5pZd"
      },
      "execution_count": 5,
      "outputs": []
    },
    {
      "cell_type": "code",
      "source": [
        "plt.scatter(cdf.year, cdf.selling_price,  color='blue')\n",
        "plt.xlabel(\"Year\")\n",
        "plt.ylabel(\"Selling Price\")\n",
        "plt.show()"
      ],
      "metadata": {
        "colab": {
          "base_uri": "https://localhost:8080/",
          "height": 290
        },
        "id": "vyLeR-Tp_uRz",
        "outputId": "1d57453d-2b67-4827-cdae-d568f04f50c4"
      },
      "execution_count": 23,
      "outputs": [
        {
          "output_type": "display_data",
          "data": {
            "image/png": "[encoded data removed]",
            "text/plain": [
              "<Figure size 432x288 with 1 Axes>"
            ]
          },
          "metadata": {
            "needs_background": "light"
          }
        }
      ]
    },
    {
      "cell_type": "code",
      "source": [
        "msk=np.random.rand(len(df))<0.8\n",
        "train=cdf[msk]\n",
        "test=cdf[~msk]"
      ],
      "metadata": {
        "id": "mstnmNdM5ybo"
      },
      "execution_count": 8,
      "outputs": []
    },
    {
      "cell_type": "code",
      "source": [
        "from sklearn.preprocessing import PolynomialFeatures\n",
        "from sklearn import linear_model\n",
        "train_x=train[['year']]\n",
        "train_y=train[['selling_price']]\n",
        "\n",
        "test_x=test[['year']]\n",
        "test_y=test[['selling_price']]\n",
        "\n",
        "poly=PolynomialFeatures(degree=2)\n",
        "train_x_poly=poly.fit_transform(train_x)\n",
        "train_x_poly"
      ],
      "metadata": {
        "colab": {
          "base_uri": "https://localhost:8080/"
        },
        "id": "Y3D4wZuN558w",
        "outputId": "6d0582d7-8424-4a45-bea8-98c88ff05f3a"
      },
      "execution_count": 15,
      "outputs": [
        {
          "output_type": "execute_result",
          "data": {
            "text/plain": [
              "array([[1.000000e+00, 2.007000e+03, 4.028049e+06],\n",
              "       [1.000000e+00, 2.012000e+03, 4.048144e+06],\n",
              "       [1.000000e+00, 2.017000e+03, 4.068289e+06],\n",
              "       ...,\n",
              "       [1.000000e+00, 2.009000e+03, 4.036081e+06],\n",
              "       [1.000000e+00, 2.016000e+03, 4.064256e+06],\n",
              "       [1.000000e+00, 2.016000e+03, 4.064256e+06]])"
            ]
          },
          "metadata": {},
          "execution_count": 15
        }
      ]
    },
    {
      "cell_type": "code",
      "source": [
        "clf = linear_model.LinearRegression()\n",
        "train_y_ = clf.fit(train_x_poly,train_y)\n",
        "\n",
        "print('Coefficients: ',clf.coef_)\n",
        "print(\"Intercept: \",clf.intercept_)"
      ],
      "metadata": {
        "colab": {
          "base_uri": "https://localhost:8080/"
        },
        "id": "_qJGk-R157NZ",
        "outputId": "76f35065-d6c8-47d4-af04-a77f44d88c7a"
      },
      "execution_count": 17,
      "outputs": [
        {
          "output_type": "stream",
          "name": "stdout",
          "text": [
            "Coefficients:  [[ 0.00000000e+00 -1.29680468e+07  3.23763718e+03]]\n",
            "Intercept:  [1.29856683e+10]\n"
          ]
        }
      ]
    },
    {
      "cell_type": "code",
      "source": [
        "# ??\n",
        "plt.scatter(train.year,train.selling_price,color='blue')\n",
        "XX=np.arange(0.0,10.0,0.1)\n",
        "yy=clf.intercept_[0]+clf.coef_[0][1]*XX+clf.coef_[0][2]*np.power(XX,2)\n",
        "plt.plot(XX,yy,'-r')\n",
        "plt.xlabel(\"Year\")\n",
        "plt.ylabel(\"Selling Price\")"
      ],
      "metadata": {
        "colab": {
          "base_uri": "https://localhost:8080/",
          "height": 307
        },
        "id": "Js3RTHVa72lt",
        "outputId": "7de8cc66-d837-4ee2-d700-410d69433fa5"
      },
      "execution_count": 20,
      "outputs": [
        {
          "output_type": "execute_result",
          "data": {
            "text/plain": [
              "Text(0, 0.5, 'Selling Price')"
            ]
          },
          "metadata": {},
          "execution_count": 20
        },
        {
          "output_type": "display_data",
          "data": {
            "image/png": "[encoded data removed]",
            "text/plain": [
              "<Figure size 432x288 with 1 Axes>"
            ]
          },
          "metadata": {
            "needs_background": "light"
          }
        }
      ]
    },
    {
      "cell_type": "code",
      "source": [
        "from sklearn.metrics import r2_score\n",
        "\n",
        "test_x_poly=poly.transform(test_x)\n",
        "test_y_ =clf.predict(test_x_poly)\n",
        "\n",
        "print(\"Mean absolute error: %.2f\" %np.mean(np.absolute(test_y_ -test_y)))\n",
        "print(\"Residual sum of squares (MSE): %.2f\" % np.mean((test_y_ -test_y)**2))\n",
        "print(\"R2-score: %.2f\" % r2_score(test_y,test_y_))"
      ],
      "metadata": {
        "colab": {
          "base_uri": "https://localhost:8080/"
        },
        "id": "PExh4Hwx9ipv",
        "outputId": "306eb028-177a-49e4-d917-5219eb23ff7a"
      },
      "execution_count": 22,
      "outputs": [
        {
          "output_type": "stream",
          "name": "stdout",
          "text": [
            "Mean absolute error: 246747.46\n",
            "Residual sum of squares (MSE): 247541468479.78\n",
            "R2-score: 0.23\n"
          ]
        }
      ]
    },
    {
      "cell_type": "code",
      "source": [
        ""
      ],
      "metadata": {
        "id": "cR1daoE4-kSW"
      },
      "execution_count": null,
      "outputs": []
    }
  ]
}